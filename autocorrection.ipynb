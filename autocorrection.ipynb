{
  "nbformat": 4,
  "nbformat_minor": 0,
  "metadata": {
    "colab": {
      "provenance": []
    },
    "kernelspec": {
      "name": "python3",
      "display_name": "Python 3"
    },
    "language_info": {
      "name": "python"
    }
  },
  "cells": [
    {
      "cell_type": "code",
      "execution_count": null,
      "metadata": {
        "colab": {
          "base_uri": "https://localhost:8080/"
        },
        "id": "NnuMfWTJHL6y",
        "outputId": "4a78a432-1552-476a-e8b2-f7b4918ffb62"
      },
      "outputs": [
        {
          "output_type": "stream",
          "name": "stdout",
          "text": [
            "Requirement already satisfied: textblob in /usr/local/lib/python3.10/dist-packages (0.17.1)\n",
            "Requirement already satisfied: nltk>=3.1 in /usr/local/lib/python3.10/dist-packages (from textblob) (3.8.1)\n",
            "Requirement already satisfied: click in /usr/local/lib/python3.10/dist-packages (from nltk>=3.1->textblob) (8.1.7)\n",
            "Requirement already satisfied: joblib in /usr/local/lib/python3.10/dist-packages (from nltk>=3.1->textblob) (1.3.2)\n",
            "Requirement already satisfied: regex>=2021.8.3 in /usr/local/lib/python3.10/dist-packages (from nltk>=3.1->textblob) (2023.6.3)\n",
            "Requirement already satisfied: tqdm in /usr/local/lib/python3.10/dist-packages (from nltk>=3.1->textblob) (4.66.1)\n",
            "Requirement already satisfied: pyspellchecker in /usr/local/lib/python3.10/dist-packages (0.7.2)\n",
            "Requirement already satisfied: autocorrect in /usr/local/lib/python3.10/dist-packages (2.6.1)\n"
          ]
        }
      ],
      "source": [
        "#Install Textblob libary for processing the text\n",
        "!pip install textblob\n",
        "#Install pyspellchecker for spell checking\n",
        "!pip install pyspellchecker\n",
        "#Install autocorrect libary to correct mispelled words\n",
        "!pip install autocorrect"
      ]
    },
    {
      "cell_type": "code",
      "source": [
        "#import speller from the autocorrect library\n",
        "from autocorrect import Speller\n",
        "#import spellchecker from the spellchecker libeary\n",
        "from spellchecker import SpellChecker\n",
        "#import word from the textblob library\n",
        "from textblob import Word"
      ],
      "metadata": {
        "id": "dp7nOWcAHS4T"
      },
      "execution_count": null,
      "outputs": []
    },
    {
      "cell_type": "code",
      "source": [
        "#Autocorrect\n",
        "#This one is good for spelling words, but it only takes into account single words not whole sentences\n",
        "#Doesn't care about the context of the sentence\n",
        "#Create an instance of the speller class using Engish as the language\n",
        "spell = Speller(lang='en')\n",
        "#Test the spell checker on a sentence\n",
        "correctedsentence = spell(\"I'm not sleapy and tehre is no place I'm going to.\")\n",
        "#Print the corrected sentence\n",
        "print(correctedsentence)"
      ],
      "metadata": {
        "colab": {
          "base_uri": "https://localhost:8080/"
        },
        "id": "02qJi2NDHgUj",
        "outputId": "d7186d17-b588-464a-d3af-677c99776e5d"
      },
      "execution_count": null,
      "outputs": [
        {
          "output_type": "stream",
          "name": "stdout",
          "text": [
            "I'm not sleepy and there is no place I'm going to.\n"
          ]
        }
      ]
    },
    {
      "cell_type": "code",
      "source": [
        "#test the spell checker on a mispelled word\n",
        "correctedword = spell('tehre')\n",
        "print(correctedword)"
      ],
      "metadata": {
        "colab": {
          "base_uri": "https://localhost:8080/"
        },
        "id": "_sTZ071iHw9i",
        "outputId": "995e6781-894c-4231-a47c-e1eb363b2970"
      },
      "execution_count": null,
      "outputs": [
        {
          "output_type": "stream",
          "name": "stdout",
          "text": [
            "there\n"
          ]
        }
      ]
    },
    {
      "cell_type": "code",
      "source": [
        "#test on another sentence\n",
        "corrected = spell('I was talking to my father and she was right.')\n",
        "print(corrected)\n",
        "#This sentence doesn't make sense in context, but the speller checks by the word not the sentence context"
      ],
      "metadata": {
        "colab": {
          "base_uri": "https://localhost:8080/"
        },
        "id": "p06f8NCdHzim",
        "outputId": "d4ef29a5-fd85-4883-b6e5-af687aea854d"
      },
      "execution_count": null,
      "outputs": [
        {
          "output_type": "stream",
          "name": "stdout",
          "text": [
            "I was talking to my father and she was right.\n"
          ]
        }
      ]
    },
    {
      "cell_type": "code",
      "source": [
        "# Create an instance of the SpellChecker class\n",
        "spell = SpellChecker()"
      ],
      "metadata": {
        "id": "NrJY_m1TLxQT"
      },
      "execution_count": null,
      "outputs": []
    },
    {
      "cell_type": "code",
      "source": [
        "# Test the spell checker in a word\n",
        "correctedword = spell.correction('addresz')\n",
        "print(correctedword)"
      ],
      "metadata": {
        "colab": {
          "base_uri": "https://localhost:8080/"
        },
        "id": "GYF13_vlJjP9",
        "outputId": "54f6aee2-82d5-463e-cef9-8a7bada91f82"
      },
      "execution_count": null,
      "outputs": [
        {
          "output_type": "stream",
          "name": "stdout",
          "text": [
            "address\n"
          ]
        }
      ]
    },
    {
      "cell_type": "code",
      "source": [
        "# Import the nltk library for natural language processing\n",
        "import nltk\n",
        "# Download the punkt data files for tokenization\n",
        "nltk.download('punkt')"
      ],
      "metadata": {
        "colab": {
          "base_uri": "https://localhost:8080/"
        },
        "id": "qzMOWdozMTiP",
        "outputId": "3d56a6c3-c7bb-461d-dc26-504cb454560b"
      },
      "execution_count": null,
      "outputs": [
        {
          "output_type": "stream",
          "name": "stderr",
          "text": [
            "[nltk_data] Downloading package punkt to /root/nltk_data...\n",
            "[nltk_data]   Package punkt is already up-to-date!\n"
          ]
        },
        {
          "output_type": "execute_result",
          "data": {
            "text/plain": [
              "True"
            ]
          },
          "metadata": {},
          "execution_count": 30
        }
      ]
    },
    {
      "cell_type": "code",
      "source": [
        "# Create a function for SpellCheck\n",
        "def SpellCheck(sent):\n",
        "    # Tokenize the input sentence into individual words\n",
        "    tokens = nltk.word_tokenize(sent)\n",
        "    # Perform spell correction on each token using the 'spell' instance\n",
        "    corrected_tokens = [spell.correction(token) for token in tokens]\n",
        "    # Join the corrected tokens back into a corrected sentence\n",
        "    corrected_sentence = ' '.join(corrected_tokens)\n",
        "    # Return the corrected sentence\n",
        "    return corrected_sentence"
      ],
      "metadata": {
        "id": "cXoSzuJJL_yC"
      },
      "execution_count": null,
      "outputs": []
    },
    {
      "cell_type": "code",
      "source": [
        "#Ask the user for a sentence\n",
        "sent = input(\"Please give me a sentence:\")\n",
        "#Run the function with the given sentence\n",
        "corrected_sent=SpellCheck(sent)\n",
        "#print the corrected sentence\n",
        "print(\"The corrected sentence is:\", corrected_sent)"
      ],
      "metadata": {
        "colab": {
          "base_uri": "https://localhost:8080/"
        },
        "id": "AM1QBzZ_NBpV",
        "outputId": "369bd261-0062-46c7-c3bc-540711d088ab"
      },
      "execution_count": null,
      "outputs": [
        {
          "output_type": "stream",
          "name": "stdout",
          "text": [
            "Please give me a sentence:I likr to go to the besch becaude I likve to swim!\n",
            "The corrected sentence is: I like to go to the beach because I like to swim !\n"
          ]
        }
      ]
    },
    {
      "cell_type": "code",
      "source": [
        "#Enter a word\n",
        "word= Word('personell')\n",
        "# Perform spell checking on the word using the spellcheck() method\n",
        "# This method returns a list of (word, confidence) of possiblilities\n",
        "# where each word is a possible spelling correction and confidence is a measure of how confident the system is about the correction\n",
        "spellcheck_results = word.spellcheck()\n",
        "# Print the results\n",
        "print(spellcheck_results)"
      ],
      "metadata": {
        "colab": {
          "base_uri": "https://localhost:8080/"
        },
        "id": "eb0bPBkaT5YS",
        "outputId": "7d50d67a-00e2-4fe3-92bd-dd0afee57937"
      },
      "execution_count": null,
      "outputs": [
        {
          "output_type": "stream",
          "name": "stdout",
          "text": [
            "[('personal', 0.65), ('personally', 0.2642857142857143), ('peroneal', 0.06428571428571428), ('personnel', 0.014285714285714285), ('personen', 0.007142857142857143)]\n"
          ]
        }
      ]
    },
    {
      "cell_type": "code",
      "source": [
        "# Import the TextBlob class from the textblob library\n",
        "from textblob import TextBlob\n",
        "# Define a function\n",
        "def SpellChecked(sent):\n",
        "    # Tokenize the input sentence into individual words\n",
        "    tokens = nltk.word_tokenize(sent)\n",
        "    # Correct each token using TextBlob's autocorrect\n",
        "    corrected_tokens = [str(TextBlob(token).correct()) for token in tokens]\n",
        "    # Join the  tokens back into a corrected sentence\n",
        "    corrected_sentence = ' '.join(corrected_tokens)\n",
        "    # Return the corrected sentence\n",
        "    return corrected_sentence\n",
        "\n",
        "# Ask the user to input a sentence\n",
        "sent = input(\"Please give me a sentence:\")\n",
        "# Call the SpellChecked function to correct the input sentence\n",
        "corrected_sent = SpellChecked(sent)\n",
        "# Print the corrected sentence\n",
        "print(\"The corrected sentence is:\", corrected_sent)\n"
      ],
      "metadata": {
        "colab": {
          "base_uri": "https://localhost:8080/"
        },
        "id": "gan9YLL4VutF",
        "outputId": "59783c02-6341-4b3b-bb02-581df4f5e362"
      },
      "execution_count": null,
      "outputs": [
        {
          "output_type": "stream",
          "name": "stdout",
          "text": [
            "Please give me a sentence:I reaaly likr schoel it is reallly fun and excitign!\n",
            "The corrected sentence is: I really like school it is really fun and exciting !\n"
          ]
        }
      ]
    }
  ]
}